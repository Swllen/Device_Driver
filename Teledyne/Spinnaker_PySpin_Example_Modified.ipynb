{
 "cells": [
  {
   "cell_type": "markdown",
   "id": "f509d7fd",
   "metadata": {},
   "source": [
    "# Spinnaker / PySpin Jupyter Example\n",
    "\n",
    "This notebook demonstrates how to control the **ORX-10GS-32S4M-C** camera using the `SpinnakerCamera` class defined in `TeledyneCam.py`.\n",
    "\n",
    "This notebook shows a minimal end‑to‑end workflow to:\n",
    "- Initialize the FLIR/Point Grey **Spinnaker** SDK via **PySpin**\n",
    "- Open a camera by serial (or the first available)\n",
    "- Set exposure, gain, pixel format, ADC bit depth, stream buffering\n",
    "- (Optionally) set an ROI\n",
    "- Grab a frame as a **NumPy** array\n",
    "- Visualize the result in‑notebook\n",
    "\n",
    "> **Prerequisites**\n",
    "> - FLIR **Spinnaker SDK** installed (matching your OS & Python).  \n",
    "> - `PySpin` Python wheel installed for your Spinnaker version.  \n",
    "> - `opencv-python` (for simple visualization and array handling).  \n",
    "> - `numpy` & `matplotlib` (for display inside Jupyter).\n",
    ">\n",
    "> **Note:** Installing Spinnaker/PySpin requires vendor packages; do that outside this notebook following `Readme.md` doc.\n"
   ]
  },
  {
   "cell_type": "markdown",
   "id": "bf37c62a",
   "metadata": {},
   "source": [
    "## 1. Import Libraries and Camera Class"
   ]
  },
  {
   "cell_type": "code",
   "execution_count": null,
   "id": "5c89c3b8",
   "metadata": {},
   "outputs": [],
   "source": [
    "import cv2\n",
    "import numpy as np\n",
    "from TeledyneCam import SpinnakerCamera"
   ]
  },
  {
   "cell_type": "markdown",
   "id": "3f730759",
   "metadata": {},
   "source": [
    "## 2. Initialize Camera\n",
    "- Choose pixel format (check supported formats in SpinView GUI)\n",
    "- Open camera\n",
    "- Set ADC bit depth to match pixel format"
   ]
  },
  {
   "cell_type": "code",
   "execution_count": null,
   "id": "0a7802fb",
   "metadata": {},
   "outputs": [],
   "source": [
    "cam = SpinnakerCamera(pixel_format=\"Mono12p\")\n",
    "cam.open()\n",
    "cam.set_adc_bitdepth(\"Bit12\")"
   ]
  },
  {
   "cell_type": "markdown",
   "id": "77096ace",
   "metadata": {},
   "source": [
    "## 3. Configure Basic Parameters\n",
    "- Exposure time\n",
    "- Gain\n",
    "- Gamma\n",
    "- ROI (optional, here 600x400 centered)"
   ]
  },
  {
   "cell_type": "code",
   "execution_count": null,
   "id": "8e010189",
   "metadata": {},
   "outputs": [],
   "source": [
    "cam.set_exposure(auto=False, time_us=2000)\n",
    "cam.set_gain(auto=False, gain_db=0)\n",
    "cam.set_gamma(enable=False, gamma=None)\n",
    "cam.set_roi(0, 0, 600, 400, center=True)"
   ]
  },
  {
   "cell_type": "markdown",
   "id": "1c666d5f",
   "metadata": {},
   "source": [
    "## 4. Start Acquisition and Grab Frame\n",
    "Optional: enable `NewestOnly` buffer handling for low-latency capture."
   ]
  },
  {
   "cell_type": "code",
   "execution_count": null,
   "id": "892c7521",
   "metadata": {},
   "outputs": [],
   "source": [
    "cam.set_latest_only(buffer_count=3)\n",
    "cam.start_acquisition()\n",
    "frame = cam.grab_numpy(timeout_ms=1000)\n",
    "cam.stop_acquisition()"
   ]
  },
  {
   "cell_type": "markdown",
   "id": "7f718970",
   "metadata": {},
   "source": [
    "## 5. Display Frame\n",
    "Show the captured image with OpenCV."
   ]
  },
  {
   "cell_type": "code",
   "execution_count": null,
   "id": "b685b3a7",
   "metadata": {},
   "outputs": [],
   "source": [
    "print(\"Frame shape:\", frame.shape)\n",
    "print(\"Max pixel value:\", np.max(frame))\n",
    "cv2.imshow(\"Frame\", frame)\n",
    "cv2.waitKey(0)\n",
    "cv2.destroyAllWindows()"
   ]
  },
  {
   "cell_type": "markdown",
   "id": "c511fc81",
   "metadata": {},
   "source": [
    "## 6. Close Camera\n",
    "Release resources after use."
   ]
  },
  {
   "cell_type": "code",
   "execution_count": null,
   "id": "9b2ba2fb",
   "metadata": {},
   "outputs": [],
   "source": [
    "cam.close()"
   ]
  },
  {
   "cell_type": "markdown",
   "id": "b4531f90",
   "metadata": {},
   "source": [
    "\n",
    "### Troubleshooting\n",
    "\n",
    "Please email me <swllen25@gamil.com> if there are any bugs in the code\n",
    "\n",
    "\n",
    "- **`PySpin` import fails** → Ensure you've installed the **Spinnaker SDK** and the **matching PySpin wheel** for your Python version.\n",
    "- **No camera detected** → Confirm USB3/PoE connectivity, correct drivers/permissions, and that the camera shows up in SpinView.\n",
    "- **ROI setting fails** → Some models require specific order or alignment increments. The helper attempts both orders and aligns to step sizes.\n",
    "- **Timeout on `GetNextImage`** → Increase `timeout_ms`, check exposure/trigger settings, verify the camera is in **Continuous** mode, and that acquisition has started.\n"
   ]
  },
  {
   "cell_type": "markdown",
   "id": "8653dc8b",
   "metadata": {},
   "source": []
  }
 ],
 "metadata": {
  "language_info": {
   "name": "python"
  }
 },
 "nbformat": 4,
 "nbformat_minor": 5
}
