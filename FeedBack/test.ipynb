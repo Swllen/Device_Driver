{
 "cells": [
  {
   "cell_type": "code",
   "execution_count": 1,
   "id": "fdccf886",
   "metadata": {},
   "outputs": [],
   "source": [
    "import numpy as np\n",
    "from scipy.signal import find_peaks\n",
    "\n"
   ]
  },
  {
   "cell_type": "code",
   "execution_count": 5,
   "id": "c89e591e",
   "metadata": {},
   "outputs": [
    {
     "name": "stdout",
     "output_type": "stream",
     "text": [
      "0\n",
      "peaks = []\n",
      "对应的值 = []\n"
     ]
    }
   ],
   "source": [
    "y = np.array([0, 0])\n",
    "peaks, props = find_peaks(y, height=3)\n",
    "len(peaks)  # 2\n",
    "print(len(peaks))\n",
    "print(\"peaks =\", peaks)         # [2 6]\n",
    "print(\"对应的值 =\", y[peaks])   # [5 7]"
   ]
  },
  {
   "cell_type": "code",
   "execution_count": null,
   "id": "4af88390",
   "metadata": {},
   "outputs": [],
   "source": []
  }
 ],
 "metadata": {
  "kernelspec": {
   "display_name": "power_meter",
   "language": "python",
   "name": "python3"
  },
  "language_info": {
   "codemirror_mode": {
    "name": "ipython",
    "version": 3
   },
   "file_extension": ".py",
   "mimetype": "text/x-python",
   "name": "python",
   "nbconvert_exporter": "python",
   "pygments_lexer": "ipython3",
   "version": "3.9.23"
  }
 },
 "nbformat": 4,
 "nbformat_minor": 5
}
